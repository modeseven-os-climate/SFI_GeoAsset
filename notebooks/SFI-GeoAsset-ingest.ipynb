{
 "cells": [
  {
   "cell_type": "markdown",
   "id": "41652f59-1798-4431-90dc-592dd4f64a7f",
   "metadata": {
    "tags": []
   },
   "source": [
    "## Load SFI GeoAsset Steel and Cement Plant data from 2020 dataset (see https://www.cgfi.ac.uk/spatial-finance-initiative/database-downloads/) for original source\n",
    "\n",
    "Copyright (C) 2021 OS-Climate\n",
    "\n",
    "Permission is hereby granted, free of charge, to any person obtaining a copy of this software and associated documentation files (the \"Software\"), to deal in the Software without restriction, including without limitation the rights to use, copy, modify, merge, publish, distribute, sublicense, and/or sell copies of the Software, and to permit persons to whom the Software is furnished to do so, subject to the following conditions:\n",
    "\n",
    "The above copyright notice and this permission notice shall be included in all copies or substantial portions of the Software.\n",
    "\n",
    "THE SOFTWARE IS PROVIDED \"AS IS\", WITHOUT WARRANTY OF ANY KIND, EXPRESS OR IMPLIED, INCLUDING BUT NOT LIMITED TO THE WARRANTIES OF MERCHANTABILITY, FITNESS FOR A PARTICULAR PURPOSE AND NONINFRINGEMENT. IN NO EVENT SHALL THE AUTHORS OR COPYRIGHT HOLDERS BE LIABLE FOR ANY CLAIM, DAMAGES OR OTHER LIABILITY, WHETHER IN AN ACTION OF CONTRACT, TORT OR OTHERWISE, ARISING FROM, OUT OF OR IN CONNECTION WITH THE SOFTWARE OR THE USE OR OTHER DEALINGS IN THE SOFTWARE.\n",
    "\n",
    "### We have a local copy rooted in the S3_BUCKET : SFI_GeoAsset/SFI-Global-Cement-Database-July-2021.xlsx and SFI_GeoAsset/SFI-Global-Steel-Database-July-2021.xlsx\n",
    "\n",
    "Contributed by Michael Tiemann (Github: MichaelTiemannOSC)"
   ]
  },
  {
   "cell_type": "markdown",
   "id": "92377eb7-1d1b-4662-ac08-99877153832b",
   "metadata": {},
   "source": [
    "Load Credentials and Data Commons libraries"
   ]
  },
  {
   "cell_type": "code",
   "execution_count": null,
   "id": "ac18bf3b-80d7-4b25-8ae4-9273709a0789",
   "metadata": {},
   "outputs": [],
   "source": [
    "# From the AWS Account page, copy the export scripts from the appropriate role using the \"Command Line or Programmatic Access\" link\n",
    "# Paste the copied text into ~/credentials.env\n",
    "\n",
    "from dotenv import dotenv_values, load_dotenv\n",
    "import os\n",
    "import pathlib\n",
    "\n",
    "dotenv_dir = os.environ.get('CREDENTIAL_DOTENV_DIR', os.environ.get('PWD', '/opt/app-root/src'))\n",
    "dotenv_path = pathlib.Path(dotenv_dir) / 'credentials.env'\n",
    "if os.path.exists(dotenv_path):\n",
    "    load_dotenv(dotenv_path=dotenv_path,override=True)\n",
    "\n",
    "from osc_ingest_trino import *\n",
    "import pyarrow as pa\n",
    "import pyarrow.parquet as pq\n",
    "import json\n",
    "import io\n",
    "import uuid"
   ]
  },
  {
   "cell_type": "markdown",
   "id": "fc72b432-76cc-41b9-be13-f90f89f05107",
   "metadata": {},
   "source": [
    "Create an S3 resource for the bucket holding source data"
   ]
  },
  {
   "cell_type": "code",
   "execution_count": null,
   "id": "7527df23-a9b2-4084-93aa-26ae6f3685bd",
   "metadata": {},
   "outputs": [],
   "source": [
    "import boto3\n",
    "s3_resource = boto3.resource(\n",
    "    service_name=\"s3\",\n",
    "    endpoint_url=os.environ['S3_LANDING_ENDPOINT'],\n",
    "    aws_access_key_id=os.environ['S3_LANDING_ACCESS_KEY'],\n",
    "    aws_secret_access_key=os.environ['S3_LANDING_SECRET_KEY'],\n",
    ")\n",
    "bucket = s3_resource.Bucket(os.environ['S3_LANDING_BUCKET'])"
   ]
  },
  {
   "cell_type": "code",
   "execution_count": null,
   "id": "08d68d14-7d11-4ec8-837f-14a1d6f4f231",
   "metadata": {},
   "outputs": [],
   "source": [
    "# Create an S3 client.  We will user later when we write out data and metadata\n",
    "s3 = boto3.client(\n",
    "    service_name=\"s3\",\n",
    "    endpoint_url=os.environ['S3_DEV_ENDPOINT'],\n",
    "    aws_access_key_id=os.environ['S3_DEV_ACCESS_KEY'],\n",
    "    aws_secret_access_key=os.environ['S3_DEV_SECRET_KEY'],\n",
    ")"
   ]
  },
  {
   "cell_type": "code",
   "execution_count": null,
   "id": "ba3be756-8a5e-4b7f-97d7-724244e99975",
   "metadata": {},
   "outputs": [],
   "source": [
    "import trino\n",
    "\n",
    "conn = trino.dbapi.connect(\n",
    "    host=os.environ['TRINO_HOST'],\n",
    "    port=int(os.environ['TRINO_PORT']),\n",
    "    user=os.environ['TRINO_USER'],\n",
    "    http_scheme='https',\n",
    "    auth=trino.auth.JWTAuthentication(os.environ['TRINO_PASSWD']),\n",
    "    verify=True,\n",
    ")\n",
    "cur = conn.cursor()\n",
    "\n",
    "# Show available schemas to ensure trino connection is set correctly\n",
    "cur.execute('show schemas in osc_datacommons_dev')\n",
    "cur.fetchall()"
   ]
  },
  {
   "cell_type": "code",
   "execution_count": null,
   "id": "a9c467dc-abb1-4efa-aefb-f631a5774bad",
   "metadata": {},
   "outputs": [],
   "source": [
    "ingest_uuid = str(uuid.uuid4())\n",
    "\n",
    "custom_meta_key_fields = 'metafields'\n",
    "custom_meta_key = 'metaset'\n",
    "\n",
    "schemaname = 'sfi_geoasset'\n",
    "cur.execute('create schema if not exists osc_datacommons_dev.' + schemaname)\n",
    "cur.fetchall()"
   ]
  },
  {
   "cell_type": "markdown",
   "id": "9a26e42c-93bd-4310-9534-cf37e9073dc3",
   "metadata": {},
   "source": [
    "For osc_datacommons_dev, a trino pipeline is a parquet data stored in the S3_DEV_BUCKET\n",
    "It is a 5-step process to get there from a pandas dataframe"
   ]
  },
  {
   "cell_type": "code",
   "execution_count": null,
   "id": "cb8a82e7-cd97-4dc5-a661-839f0513ca31",
   "metadata": {},
   "outputs": [],
   "source": [
    "def create_trino_pipeline (s3, schemaname, tablename, timestamp, df, meta_fields, meta_content):\n",
    "    global ingest_uuid\n",
    "    global custom_meta_key_fields, custom_meta_key\n",
    "    \n",
    "    # First convert dataframe to pyarrow for type conversion and basic metadata\n",
    "    table = pa.Table.from_pandas(df)\n",
    "    # Second, since pyarrow tables are immutable, create a new table with additional combined metadata\n",
    "    if meta_fields or meta_content:\n",
    "        meta_json_fields = json.dumps(meta_fields)\n",
    "        meta_json = json.dumps(meta_content)\n",
    "        existing_meta = table.schema.metadata\n",
    "        combined_meta = {\n",
    "            custom_meta_key_fields.encode(): meta_json_fields.encode(),\n",
    "            custom_meta_key.encode(): meta_json.encode(),\n",
    "            **existing_meta\n",
    "        }\n",
    "        table = table.replace_schema_metadata(combined_meta)\n",
    "    # Third, convert table to parquet format (which cannot be written directly to s3)\n",
    "    pq.write_table(table, '/tmp/{sname}.{tname}.{uuid}.{timestamp}.parquet'.format(sname=schemaname, tname=tablename, uuid=ingest_uuid, timestamp=timestamp))\n",
    "    # df.to_parquet('/tmp/{sname}.{tname}.{uuid}.parquet'.format(sname=schemaname, tname=tablename, uuid=ingest_uuid, index=False))\n",
    "    # Fourth, put the parquet-ified data into our S3 bucket for trino.  We cannot compute parquet format directly to S3 but we can copy it once computed\n",
    "    s3.upload_file(\n",
    "        Bucket=os.environ['S3_DEV_BUCKET'],\n",
    "        Key='trino/{sname}/{tname}/{uuid}/{timestamp}/{tname}.parquet'.format(sname=schemaname, tname=tablename, uuid=ingest_uuid, timestamp=timestamp),\n",
    "        Filename='/tmp/{sname}.{tname}.{uuid}.{timestamp}.parquet'.format(sname=schemaname, tname=tablename, uuid=ingest_uuid, timestamp=timestamp)\n",
    "    )\n",
    "    # Finally, create the trino table backed by our parquet files enhanced by our metadata\n",
    "    cur.execute('.'.join(['drop table if exists osc_datacommons_dev', schemaname, tablename]))\n",
    "    print('dropping table: ' + tablename)\n",
    "    cur.fetchall()\n",
    "    \n",
    "    schema = create_table_schema_pairs(df)\n",
    "\n",
    "    tabledef = \"\"\"create table if not exists osc_datacommons_dev.{sname}.{tname}(\n",
    "{schema}\n",
    ") with (\n",
    "    format = 'parquet',\n",
    "    external_location = 's3a://{bucket}/trino/{sname}/{tname}/{uuid}/{timestamp}'\n",
    ")\"\"\".format(schema=schema,bucket=os.environ['S3_DEV_BUCKET'],sname=schemaname,tname=tablename,uuid=ingest_uuid,timestamp=timestamp)\n",
    "    print(tabledef)\n",
    "\n",
    "    # tables created externally may not show up immediately in cloud-beaver\n",
    "    cur.execute(tabledef)\n",
    "    cur.fetchall()"
   ]
  },
  {
   "cell_type": "markdown",
   "id": "677c9840-1f07-4d3c-ab34-ca401dc543e5",
   "metadata": {},
   "source": [
    "Load SFI/GeoAsset data file using pandas *read_excel* and using *ingest_uuid* as the global UUID for this ingestion"
   ]
  },
  {
   "cell_type": "code",
   "execution_count": null,
   "id": "89e16bbe-d602-4ad5-b9d7-a522536ca352",
   "metadata": {
    "tags": []
   },
   "outputs": [],
   "source": [
    "import pandas as pd\n",
    "import numpy as np\n",
    "\n",
    "bObj = bucket.Object('SFI_GeoAsset/SFI-Global-Cement-Database-July-2021.xlsx')\n",
    "cement_bytes = io.BytesIO(bObj.get()['Body'].read())\n",
    "timestamp = bObj.last_modified.isoformat()\n",
    "\n",
    "# Because NaN cannot be converted to int type, we cannot use int as a datatype for years that are NaN\n",
    "\n",
    "cement_df = pd.read_excel(cement_bytes, sheet_name='SFI_ALD_Cement_Database', dtype={'latitude':'float64', 'longitude':'float64'}, engine='openpyxl')"
   ]
  },
  {
   "cell_type": "code",
   "execution_count": null,
   "id": "68e81a7e-bb7b-4497-a829-271b2fa45516",
   "metadata": {},
   "outputs": [],
   "source": [
    "df = pd.read_excel(cement_bytes, sheet_name='About', header=None)\n",
    "cement_meta_content = {\n",
    "    'title': df.iloc[0,0],\n",
    "    'license': df.iloc[2,0],\n",
    "    'description': df.iloc[4,0],\n",
    "    'citation': df.iloc[6,0],\n",
    "    'contact': df.iloc[8,0],\n",
    "    'release_date': 'July 2021',\n",
    "    # How should we describe our transformative step here?\n",
    "}\n",
    "df = df.iloc[:, [1, 2]].dropna(axis=0).T\n",
    "df2 = pd.DataFrame(index=[0], columns=df.iloc[0])\n",
    "df2.loc[0] = df.iloc[1].values\n",
    "# df = df.dropna(axis=0).set_index(0).T\n",
    "df = df2\n",
    "df"
   ]
  },
  {
   "cell_type": "code",
   "execution_count": null,
   "id": "09cd4295-424c-4d73-833a-fe255f3235b1",
   "metadata": {
    "tags": []
   },
   "outputs": [],
   "source": [
    "cement_meta_fields = df.to_dict('records')"
   ]
  },
  {
   "cell_type": "code",
   "execution_count": null,
   "id": "a4dac3fd-0376-4d5d-830f-def9a249b36c",
   "metadata": {},
   "outputs": [],
   "source": [
    "cement_meta_fields"
   ]
  },
  {
   "cell_type": "code",
   "execution_count": null,
   "id": "80970c5d-8194-418d-9965-cf44325c3f77",
   "metadata": {},
   "outputs": [],
   "source": [
    "display(cement_df.columns)\n",
    "\n",
    "bObj = bucket.Object('SFI_GeoAsset/SFI-Global-Steel-Database-July-2021.xlsx')\n",
    "steel_bytes = io.BytesIO(bObj.get()['Body'].read())\n",
    "timestamp = max(timestamp, bObj.last_modified.isoformat())\n",
    "\n",
    "steel_df = pd.read_excel(steel_bytes, sheet_name='SFI_ALD_Steel_Database', dtype={'latitude':'float64', 'longitude':'float64'}, engine='openpyxl')\n",
    "display(steel_df.columns)"
   ]
  },
  {
   "cell_type": "code",
   "execution_count": null,
   "id": "ce27598f-6454-47ee-bb95-9f3da558d476",
   "metadata": {},
   "outputs": [],
   "source": [
    "df = pd.read_excel(steel_bytes, sheet_name='About', header=None)\n",
    "steel_meta_content = {\n",
    "    'title': df.iloc[0,0],\n",
    "    'license': df.iloc[2,0],\n",
    "    'description': df.iloc[4,0],\n",
    "    'citation': df.iloc[6,0],\n",
    "    'contact': df.iloc[8,0],\n",
    "    'release_date': 'July 2021',\n",
    "    # How should we describe our transformative step here?\n",
    "}\n",
    "df = df.iloc[:, [1, 2]].dropna(axis=0).T\n",
    "df2 = pd.DataFrame(index=[0], columns=df.iloc[0])\n",
    "df2.loc[0] = df.iloc[1].values\n",
    "# df = df.dropna(axis=0).set_index(0).T\n",
    "df = df2\n",
    "df"
   ]
  },
  {
   "cell_type": "code",
   "execution_count": null,
   "id": "91a5697f-3a6a-4462-afde-ff7630f3d0f3",
   "metadata": {
    "tags": []
   },
   "outputs": [],
   "source": [
    "steel_meta_fields = df.to_dict('records')"
   ]
  },
  {
   "cell_type": "code",
   "execution_count": null,
   "id": "45bc20bd-744d-407f-9120-c47b4a805f92",
   "metadata": {},
   "outputs": [],
   "source": [
    "steel_meta_fields"
   ]
  },
  {
   "cell_type": "raw",
   "id": "c1e8ec08-28b0-4bdc-8137-0be965ec749c",
   "metadata": {},
   "source": [
    "# Add a unique identifier to the data set.\n",
    "uid = str(uuid.uuid4())\n",
    "cement_df['uuid'] = uid\n",
    "steel_df['uuid'] = uid\n",
    "\n",
    "display(cement_dict['SFI_ALD_Cement_Database'].columns)\n",
    "display(steel_dict['SFI_ALD_Steel_Database'].columns)"
   ]
  },
  {
   "cell_type": "markdown",
   "id": "a7cfcd49-90cc-45c7-a4e0-8b81947d8d07",
   "metadata": {},
   "source": [
    "Construct the combined metadata by merging existing table metadata and custom metadata.\n",
    "Note: The metadata content must be JSON serialisable and encoded as bytes; the metadata key must also be encoded as bytes."
   ]
  },
  {
   "cell_type": "code",
   "execution_count": null,
   "id": "34490f08-dc88-43e5-87fa-7415013a1ec3",
   "metadata": {},
   "outputs": [],
   "source": [
    "tablename = 'cement'\n",
    "create_trino_pipeline (s3, schemaname, tablename, timestamp, cement_df, cement_meta_fields, cement_meta_content)"
   ]
  },
  {
   "cell_type": "markdown",
   "id": "f4116cf3-a06c-4224-8e6c-b2943f15cefb",
   "metadata": {},
   "source": [
    "Restore data and metadata"
   ]
  },
  {
   "cell_type": "code",
   "execution_count": null,
   "id": "3958517a-a986-4c3a-bd01-e16d1717d900",
   "metadata": {},
   "outputs": [],
   "source": [
    "# Read the Parquet file into an Arrow table\n",
    "obj = s3.get_object(\n",
    "    Bucket=os.environ['S3_DEV_BUCKET'], \n",
    "    Key='trino/{sname}/{tname}/{uuid}/{timestamp}/{tname}.parquet'.format(sname=schemaname, tname=tablename, uuid=ingest_uuid, timestamp=timestamp)\n",
    ")\n",
    "restored_table = pq.read_table(io.BytesIO(obj['Body'].read()))\n",
    "# Call the table’s to_pandas conversion method to restore the dataframe\n",
    "# This operation uses the Pandas metadata to reconstruct the dataFrame under the hood\n",
    "restored_df = restored_table.to_pandas()\n",
    "# The custom metadata is accessible via the Arrow table’s metadata object\n",
    "# Use the custom metadata key used earlier (taking care to once again encode the key as bytes)\n",
    "restored_meta_json = restored_table.schema.metadata[custom_meta_key.encode()]\n",
    "# Deserialize the json string to get back metadata\n",
    "restored_meta = json.loads(restored_meta_json)\n",
    "# Use the custom metadata fields key used earlier (taking care to once again encode the key as bytes)\n",
    "restored_meta_json_fields = restored_table.schema.metadata[custom_meta_key_fields.encode()]\n",
    "# Deserialize the json string to get back metadata\n",
    "restored_meta_fields = json.loads(restored_meta_json_fields)"
   ]
  },
  {
   "cell_type": "code",
   "execution_count": null,
   "id": "45a60048-3709-4255-92ea-cb6384fcd8ab",
   "metadata": {},
   "outputs": [],
   "source": [
    "restored_df"
   ]
  },
  {
   "cell_type": "code",
   "execution_count": null,
   "id": "f8d3a4d9-0798-4a83-8eaa-f349a4821b9c",
   "metadata": {
    "tags": []
   },
   "outputs": [],
   "source": [
    "restored_meta"
   ]
  },
  {
   "cell_type": "code",
   "execution_count": null,
   "id": "7c09430a-8e4c-4709-9aef-0e171c1c53d3",
   "metadata": {},
   "outputs": [],
   "source": [
    "restored_meta_fields"
   ]
  },
  {
   "cell_type": "code",
   "execution_count": null,
   "id": "8ee7d9f8-66fa-4520-b7ee-abb26757a136",
   "metadata": {},
   "outputs": [],
   "source": [
    "tablename = 'steel'\n",
    "create_trino_pipeline (s3, schemaname, tablename, timestamp, steel_df, steel_meta_fields, steel_meta_content)"
   ]
  },
  {
   "cell_type": "markdown",
   "id": "edbfb5fe-74b6-4aea-b4d2-982c1680877d",
   "metadata": {},
   "source": [
    "Restore data and metadata"
   ]
  },
  {
   "cell_type": "code",
   "execution_count": null,
   "id": "06282946-f510-49f8-a05f-db287bab6e81",
   "metadata": {},
   "outputs": [],
   "source": [
    "# Read the Parquet file into an Arrow table\n",
    "obj = s3.get_object(\n",
    "    Bucket=os.environ['S3_DEV_BUCKET'], \n",
    "    Key='trino/{sname}/{tname}/{uuid}/{timestamp}/{tname}.parquet'.format(sname=schemaname, tname=tablename, uuid=ingest_uuid, timestamp=timestamp)\n",
    ")\n",
    "restored_table = pq.read_table(io.BytesIO(obj['Body'].read()))\n",
    "# Call the table’s to_pandas conversion method to restore the dataframe\n",
    "# This operation uses the Pandas metadata to reconstruct the dataFrame under the hood\n",
    "restored_df = restored_table.to_pandas()\n",
    "# The custom metadata is accessible via the Arrow table’s metadata object\n",
    "# Use the custom metadata key used earlier (taking care to once again encode the key as bytes)\n",
    "restored_meta_json = restored_table.schema.metadata[custom_meta_key.encode()]\n",
    "# Deserialize the json string to get back metadata\n",
    "restored_meta = json.loads(restored_meta_json)\n",
    "# Use the custom metadata fields key used earlier (taking care to once again encode the key as bytes)\n",
    "restored_meta_json_fields = restored_table.schema.metadata[custom_meta_key_fields.encode()]\n",
    "# Deserialize the json string to get back metadata\n",
    "restored_meta_fields = json.loads(restored_meta_json_fields)"
   ]
  },
  {
   "cell_type": "code",
   "execution_count": null,
   "id": "96b59702-ba1a-4d7d-bb8b-812a67a5c9f6",
   "metadata": {},
   "outputs": [],
   "source": [
    "restored_df"
   ]
  },
  {
   "cell_type": "code",
   "execution_count": null,
   "id": "1acb13c5-2a6c-4ab3-87ae-fa84ee0861c0",
   "metadata": {
    "tags": []
   },
   "outputs": [],
   "source": [
    "restored_meta"
   ]
  },
  {
   "cell_type": "code",
   "execution_count": null,
   "id": "07193faf-63a5-4afa-89f3-de6e2a8c85bc",
   "metadata": {},
   "outputs": [],
   "source": [
    "restored_meta_fields"
   ]
  },
  {
   "cell_type": "code",
   "execution_count": null,
   "id": "f6f5b1e6-17a4-4401-a82b-c998feee4efb",
   "metadata": {},
   "outputs": [],
   "source": [
    "# Everything below here is speculative / in process of design"
   ]
  },
  {
   "cell_type": "markdown",
   "id": "b0fb2656-b4e4-4693-a6a0-b76018282398",
   "metadata": {
    "tags": []
   },
   "source": [
    "## Load metadata following an ingestion process into trino metadata store\n",
    "\n",
    "### The schema is *metastore*, and the table names are *meta_schema*, *meta_table*, *meta_field*"
   ]
  },
  {
   "cell_type": "code",
   "execution_count": null,
   "id": "7d557ebe-1c26-4129-90b3-ff774f4f87ea",
   "metadata": {},
   "outputs": [],
   "source": [
    "# Create metastore structure\n",
    "metastore = {'catalog':'osc_datacommons_dev',\n",
    "             'schema':'wri_gppd_md',\n",
    "             'table':tablename,\n",
    "             'metadata':custom_meta_content,\n",
    "             'uuid':ingest_uuid}\n",
    "# Create DataFrame\n",
    "df_meta = pd.DataFrame(metastore)\n",
    "# Print the output\n",
    "df_meta"
   ]
  },
  {
   "cell_type": "code",
   "execution_count": null,
   "id": "ec686661-b22b-449d-9584-66b95bef9989",
   "metadata": {},
   "outputs": [],
   "source": []
  }
 ],
 "metadata": {
  "kernelspec": {
   "display_name": "Python 3",
   "language": "python",
   "name": "python3"
  },
  "language_info": {
   "codemirror_mode": {
    "name": "ipython",
    "version": 3
   },
   "file_extension": ".py",
   "mimetype": "text/x-python",
   "name": "python",
   "nbconvert_exporter": "python",
   "pygments_lexer": "ipython3",
   "version": "3.8.3"
  }
 },
 "nbformat": 4,
 "nbformat_minor": 5
}
